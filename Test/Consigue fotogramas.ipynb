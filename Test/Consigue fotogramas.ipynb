{
 "cells": [
  {
   "cell_type": "code",
   "execution_count": 17,
   "id": "a4c73166",
   "metadata": {},
   "outputs": [
    {
     "data": {
      "text/plain": [
       "0.8493885999138677"
      ]
     },
     "execution_count": 17,
     "metadata": {},
     "output_type": "execute_result"
    }
   ],
   "source": [
    "import random"
   ]
  },
  {
   "cell_type": "code",
   "execution_count": null,
   "id": "7b5fea25",
   "metadata": {},
   "outputs": [],
   "source": [
    "file_path = '/home/virtudes/Escritorio/Videos/Vídeo el 28-9-22 a las 16.29.mov'\n",
    "out_folder = '/home/virtudes/Escritorio/fotogramas/video4ARMAS/'"
   ]
  },
  {
   "cell_type": "code",
   "execution_count": null,
   "id": "fccbca41",
   "metadata": {},
   "outputs": [],
   "source": [
    "import cv2\n",
    "from PIL import Image\n",
    "import numpy\n",
    "capture = cv2.VideoCapture(file_path)\n",
    "cont = 0\n",
    "while (capture.isOpened()):\n",
    "    ret, frame = capture.read()\n",
    "    if random.random() < 0.1:\n",
    "        cv2.imwrite(out_folder+str(cont)+'.jpg', frame)\n",
    "        cont +=1\n",
    "capture.release()\n",
    "cv2.destroyAllWindows()"
   ]
  }
 ],
 "metadata": {
  "kernelspec": {
   "display_name": "Python 3 (ipykernel)",
   "language": "python",
   "name": "python3"
  },
  "language_info": {
   "codemirror_mode": {
    "name": "ipython",
    "version": 3
   },
   "file_extension": ".py",
   "mimetype": "text/x-python",
   "name": "python",
   "nbconvert_exporter": "python",
   "pygments_lexer": "ipython3",
   "version": "3.9.13"
  }
 },
 "nbformat": 4,
 "nbformat_minor": 5
}
