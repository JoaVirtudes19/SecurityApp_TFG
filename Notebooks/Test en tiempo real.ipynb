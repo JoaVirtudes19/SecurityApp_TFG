{
 "cells": [
  {
   "cell_type": "markdown",
   "id": "4c99fed7",
   "metadata": {},
   "source": [
    "# Test en tiempo real"
   ]
  },
  {
   "cell_type": "markdown",
   "id": "4a0b90b3",
   "metadata": {},
   "source": [
    "Con este notebook se pueden realizar test en tiempo real con el modelo deseado. Este notebook se ha utilizado para realziar los rest del proyecto."
   ]
  },
  {
   "cell_type": "markdown",
   "id": "fff4bf99",
   "metadata": {},
   "source": [
    "El uso del notebook es sencillo:"
   ]
  },
  {
   "cell_type": "code",
   "execution_count": null,
   "id": "0ed4e054",
   "metadata": {
    "scrolled": true
   },
   "outputs": [],
   "source": [
    "from icevision.all import *"
   ]
  },
  {
   "cell_type": "code",
   "execution_count": 2,
   "id": "1411f136",
   "metadata": {},
   "outputs": [],
   "source": [
    "from icevision.models import *"
   ]
  },
  {
   "cell_type": "markdown",
   "id": "2fa56de1",
   "metadata": {},
   "source": [
    "### 1. Definimos el path del modelo a cargar"
   ]
  },
  {
   "cell_type": "code",
   "execution_count": null,
   "id": "13124941",
   "metadata": {},
   "outputs": [],
   "source": [
    "checkpoint_path = '/home/virtudes/SecurityApp_TFG/checkpoints/dataSetGrande.pth'\n",
    "\n",
    "checkpoint_and_model = model_from_checkpoint(checkpoint_path)\n"
   ]
  },
  {
   "cell_type": "markdown",
   "id": "ac198ae2",
   "metadata": {},
   "source": [
    "### 2. Se cargan los datos relacionados con el modelo"
   ]
  },
  {
   "cell_type": "code",
   "execution_count": 6,
   "id": "3db79ff5",
   "metadata": {
    "scrolled": true
   },
   "outputs": [
    {
     "data": {
      "text/plain": [
       "(<module 'icevision.models.ultralytics.yolov5' from '/home/virtudes/anaconda3/envs/tfg/lib/python3.9/site-packages/icevision/models/ultralytics/yolov5/__init__.py'>,\n",
       " <icevision.models.ultralytics.yolov5.utils.YoloV5BackboneConfig at 0x7fdf1c4f6b80>,\n",
       " <ClassMap: {'background': 0, 'gun': 1}>,\n",
       " 384)"
      ]
     },
     "execution_count": 6,
     "metadata": {},
     "output_type": "execute_result"
    }
   ],
   "source": [
    "# Just logging the info\n",
    "model_type = checkpoint_and_model[\"model_type\"]\n",
    "backbone = checkpoint_and_model[\"backbone\"]\n",
    "class_map = checkpoint_and_model[\"class_map\"]\n",
    "img_size = checkpoint_and_model[\"img_size\"]\n",
    "model_type, backbone, class_map, img_size"
   ]
  },
  {
   "cell_type": "code",
   "execution_count": 7,
   "id": "2d32be08",
   "metadata": {},
   "outputs": [],
   "source": [
    "model = checkpoint_and_model[\"model\"]"
   ]
  },
  {
   "cell_type": "code",
   "execution_count": 8,
   "id": "11b45f88",
   "metadata": {},
   "outputs": [
    {
     "data": {
      "text/plain": [
       "device(type='cuda', index=0)"
      ]
     },
     "execution_count": 8,
     "metadata": {},
     "output_type": "execute_result"
    }
   ],
   "source": [
    "device=next(model.parameters()).device\n",
    "device"
   ]
  },
  {
   "cell_type": "code",
   "execution_count": 13,
   "id": "d2ff3558",
   "metadata": {},
   "outputs": [],
   "source": [
    "# Transforms\n",
    "img_size = checkpoint_and_model[\"img_size\"]\n",
    "valid_transforms = tfms.A.Adapter([*tfms.A.resize_and_pad(img_size), tfms.A.Normalize()])\n"
   ]
  },
  {
   "cell_type": "markdown",
   "id": "6ab1efe8",
   "metadata": {},
   "source": [
    "### 3. Empezar las pruebas"
   ]
  },
  {
   "cell_type": "markdown",
   "id": "9a133a2f",
   "metadata": {},
   "source": [
    "Estas pruebas pueden ser realizadas con una cámara en tiempo real o con un video. Tan solo es necesario cambiar la ruta en cv2.VideoCapture('ruta'), donde ruta puede ser el path a un vídeo, el enlace a una cámara IP o un número entero (número de cámara física).\n",
    "\n",
    "Cuando la siguiente celda se ejecuta, comienzan a contarse los fotogramas y los fotogramas con detección, además de abrirse una ventana en la que visualizar la prueba.\n",
    "\n",
    "Para termianr la prueba, pulsar la tecla 'q'."
   ]
  },
  {
   "cell_type": "code",
   "execution_count": null,
   "id": "3a380fa2",
   "metadata": {},
   "outputs": [],
   "source": [
    "import cv2\n",
    "from PIL import Image\n",
    "import numpy\n",
    "capture = cv2.VideoCapture('/home/virtudes/clideo_editor_b92fb4d9587340588d179a0aa5d32a6d.mp4')\n",
    "total = 0 \n",
    "detected = 0\n",
    "while (capture.isOpened()):\n",
    "    ret, frame = capture.read()\n",
    "    total+=1\n",
    "    img = cv2.cvtColor(frame, cv2.COLOR_BGR2RGB)\n",
    "    img_conv = Image.fromarray(img)\n",
    "\n",
    "    pred_dict = model_type.end2end_detect(img_conv, valid_transforms, model, class_map=class_map,\n",
    "                                                      detection_threshold=0.3, return_img=False)\n",
    "\n",
    "    if pred_dict['detection']['label_ids']:\n",
    "        detected+=1\n",
    "        recent_bboxes = pred_dict['detection']['bboxes']\n",
    "        recent_labels = pred_dict['detection']['labels']\n",
    "\n",
    "        for i in range(len(recent_bboxes)):\n",
    "            bbox = recent_bboxes[i]\n",
    "            label = recent_labels[i]\n",
    "            cv2.rectangle(frame, (bbox.xmin, bbox.ymin), (bbox.xmax, bbox.ymax), (255, 0, 0), 2)\n",
    "            cv2.putText(frame, label, (bbox.xmin, bbox.ymin - 10), cv2.FONT_HERSHEY_SIMPLEX, 0.9, (255, 0, 0), 2)\n",
    "    cv2.imshow('CCTV',frame)\n",
    "    if (cv2.waitKey(1) == ord('q')):\n",
    "        break\n",
    "\n",
    "capture.release()\n",
    "cv2.destroyAllWindows()\n"
   ]
  },
  {
   "cell_type": "markdown",
   "id": "3054606d",
   "metadata": {},
   "source": [
    "### Resultados"
   ]
  },
  {
   "cell_type": "markdown",
   "id": "d59fbad5",
   "metadata": {},
   "source": [
    "Visualizamos el número de fotogramas"
   ]
  },
  {
   "cell_type": "code",
   "execution_count": 117,
   "id": "44b73290",
   "metadata": {},
   "outputs": [
    {
     "name": "stdout",
     "output_type": "stream",
     "text": [
      "238\n",
      "408\n"
     ]
    }
   ],
   "source": [
    "print(detected)\n",
    "print(total)"
   ]
  },
  {
   "cell_type": "markdown",
   "id": "d1e513e0",
   "metadata": {},
   "source": [
    "¿Cuántos fotogramas de los totales son detecciones?"
   ]
  },
  {
   "cell_type": "code",
   "execution_count": 118,
   "id": "a249afb6",
   "metadata": {},
   "outputs": [
    {
     "data": {
      "text/plain": [
       "0.5833333333333334"
      ]
     },
     "execution_count": 118,
     "metadata": {},
     "output_type": "execute_result"
    }
   ],
   "source": [
    "detected/total"
   ]
  }
 ],
 "metadata": {
  "kernelspec": {
   "display_name": "Python 3 (ipykernel)",
   "language": "python",
   "name": "python3"
  },
  "language_info": {
   "codemirror_mode": {
    "name": "ipython",
    "version": 3
   },
   "file_extension": ".py",
   "mimetype": "text/x-python",
   "name": "python",
   "nbconvert_exporter": "python",
   "pygments_lexer": "ipython3",
   "version": "3.9.16"
  },
  "vscode": {
   "interpreter": {
    "hash": "a5df5852abfdf79a0b8f1694029acab5b6e5e4f9a543c4df870fbb937ab391b6"
   }
  }
 },
 "nbformat": 4,
 "nbformat_minor": 5
}
